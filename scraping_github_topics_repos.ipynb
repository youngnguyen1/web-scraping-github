{
 "cells": [
  {
   "cell_type": "markdown",
   "id": "8ae6134f-2ac8-4829-af5f-3e8fb6903be5",
   "metadata": {},
   "source": [
    "# Top Repositories in different GitHub Topics"
   ]
  },
  {
   "cell_type": "markdown",
   "id": "f29f5f1a-9558-429e-b702-35aae2a61070",
   "metadata": {},
   "source": [
    "### Pick website and describe objective"
   ]
  },
  {
   "cell_type": "markdown",
   "id": "afd670ea-0cce-4ea9-9c0e-f08a06ece4b4",
   "metadata": {},
   "source": [
    "Outline:\n",
    "\n",
    "- Scrape https://github.com/topics\n",
    "- Get a list of topics. For each topic, we'll get a topic title, topic page URL, and topic description\n",
    "- Top 25 repos for each topic\n",
    "- For each repo, grab the repo name, username, stars, and repo URL\n",
    "- For each topic, create a CSV file with the following format:\n",
    "\n",
    "```\n",
    "Repo Name, Username, Stars, Repo URL\n",
    "```\n"
   ]
  },
  {
   "cell_type": "markdown",
   "id": "4a99b901-1c0f-448f-94e7-d33b28e356e4",
   "metadata": {},
   "source": [
    "### Use requests library to download webpages"
   ]
  },
  {
   "cell_type": "code",
   "execution_count": 1,
   "id": "8947aa20-11fb-455c-8306-f10e583b470f",
   "metadata": {},
   "outputs": [],
   "source": [
    "import requests"
   ]
  },
  {
   "cell_type": "code",
   "execution_count": 2,
   "id": "774f3bec-3a94-404d-9408-0a3da7e056af",
   "metadata": {},
   "outputs": [
    {
     "data": {
      "text/plain": [
       "200"
      ]
     },
     "execution_count": 2,
     "metadata": {},
     "output_type": "execute_result"
    }
   ],
   "source": [
    "topics_url = 'https://github.com/topics'\n",
    "response = requests.get(topics_url)\n",
    "response.status_code\n",
    "#http status code 200 is sucessful"
   ]
  },
  {
   "cell_type": "code",
   "execution_count": 3,
   "id": "7b9fc601-1351-4617-abe7-a7118c189cb8",
   "metadata": {},
   "outputs": [
    {
     "data": {
      "text/plain": [
       "'\\n\\n<!DOCTYPE html>\\n<html lang=\"en\" data-color-mode=\"auto\" data-light-theme=\"light\" data-dark-theme=\"dark\" data-a11y-animated-images=\"system\">\\n  <head>\\n    <meta charset=\"utf-8\">\\n  <link rel=\"dns-prefetch\" href=\"https://github.githubassets.com\">\\n  <link rel=\"dns-prefetch\" href=\"https://avatars.githubusercontent.com\">\\n  <link rel=\"dns-prefetch\" href=\"https://github-cloud.s3.amazonaws.com\">\\n  <link rel=\"dns-prefetch\" href=\"https://user-images.githubusercontent.com/\">\\n  <link rel=\"preconnect\" href=\"https://github.githubassets.com\" crossorigin>\\n  <link rel=\"preconnect\" href=\"https://avatars.githubusercontent.com\">\\n\\n\\n\\n  <link crossorigin=\"anonymous\" media=\"all\" rel=\"stylesheet\" href=\"https://github.githubassets.com/assets/light-5178aee0ee76.css\" /><link crossorigin=\"anonymous\" media=\"all\" rel=\"stylesheet\" href=\"https://github.githubassets.com/assets/dark-217d4f9c8e70.css\" /><link data-color-theme=\"dark_dimmed\" crossorigin=\"anonymous\" media=\"all\" rel=\"stylesheet\" data-href=\"https://github.gith'"
      ]
     },
     "execution_count": 3,
     "metadata": {},
     "output_type": "execute_result"
    }
   ],
   "source": [
    "#preview the html code for github\n",
    "page_contents = response.text\n",
    "page_contents[:1000]"
   ]
  },
  {
   "cell_type": "markdown",
   "id": "8df0a4ee-6f53-4083-b48f-0bd999815570",
   "metadata": {},
   "source": [
    "### Use Beautiful Soup to parse and extract information"
   ]
  },
  {
   "cell_type": "code",
   "execution_count": 4,
   "id": "dcbb7225-02fb-418b-886e-6054730c438a",
   "metadata": {},
   "outputs": [],
   "source": [
    "from bs4 import BeautifulSoup"
   ]
  },
  {
   "cell_type": "code",
   "execution_count": 5,
   "id": "5f492aad-5fe5-4139-9b18-12d7693f3b4c",
   "metadata": {},
   "outputs": [],
   "source": [
    "# Parse as html\n",
    "doc = BeautifulSoup(page_contents, 'html.parser')"
   ]
  },
  {
   "cell_type": "code",
   "execution_count": 6,
   "id": "696de015-575f-4fd9-a045-65d5a85770d8",
   "metadata": {},
   "outputs": [],
   "source": [
    "# Find all of the topic titles on the first page\n",
    "# Topic titles are contained in p tags\n",
    "topic_title_tags = doc.find_all('p', {'class': \"f3 lh-condensed mb-0 mt-1 Link--primary\"})"
   ]
  },
  {
   "cell_type": "code",
   "execution_count": 7,
   "id": "6a05f5e4-0fe0-44ba-a255-ccdcc355fb4c",
   "metadata": {},
   "outputs": [
    {
     "data": {
      "text/plain": [
       "30"
      ]
     },
     "execution_count": 7,
     "metadata": {},
     "output_type": "execute_result"
    }
   ],
   "source": [
    "# Checking to see if we grabbed the correct amount of p tags\n",
    "# There are 30 topics on the first page of github.com/topics\n",
    "len(topic_title_tags)"
   ]
  },
  {
   "cell_type": "code",
   "execution_count": 8,
   "id": "b5f0cc02-f5b4-477c-aba2-eedbb8ebe145",
   "metadata": {
    "scrolled": true,
    "tags": []
   },
   "outputs": [
    {
     "data": {
      "text/plain": [
       "[<p class=\"f3 lh-condensed mb-0 mt-1 Link--primary\">3D</p>,\n",
       " <p class=\"f3 lh-condensed mb-0 mt-1 Link--primary\">Ajax</p>,\n",
       " <p class=\"f3 lh-condensed mb-0 mt-1 Link--primary\">Algorithm</p>,\n",
       " <p class=\"f3 lh-condensed mb-0 mt-1 Link--primary\">Amp</p>,\n",
       " <p class=\"f3 lh-condensed mb-0 mt-1 Link--primary\">Android</p>,\n",
       " <p class=\"f3 lh-condensed mb-0 mt-1 Link--primary\">Angular</p>,\n",
       " <p class=\"f3 lh-condensed mb-0 mt-1 Link--primary\">Ansible</p>,\n",
       " <p class=\"f3 lh-condensed mb-0 mt-1 Link--primary\">API</p>,\n",
       " <p class=\"f3 lh-condensed mb-0 mt-1 Link--primary\">Arduino</p>,\n",
       " <p class=\"f3 lh-condensed mb-0 mt-1 Link--primary\">ASP.NET</p>,\n",
       " <p class=\"f3 lh-condensed mb-0 mt-1 Link--primary\">Atom</p>,\n",
       " <p class=\"f3 lh-condensed mb-0 mt-1 Link--primary\">Awesome Lists</p>,\n",
       " <p class=\"f3 lh-condensed mb-0 mt-1 Link--primary\">Amazon Web Services</p>,\n",
       " <p class=\"f3 lh-condensed mb-0 mt-1 Link--primary\">Azure</p>,\n",
       " <p class=\"f3 lh-condensed mb-0 mt-1 Link--primary\">Babel</p>,\n",
       " <p class=\"f3 lh-condensed mb-0 mt-1 Link--primary\">Bash</p>,\n",
       " <p class=\"f3 lh-condensed mb-0 mt-1 Link--primary\">Bitcoin</p>,\n",
       " <p class=\"f3 lh-condensed mb-0 mt-1 Link--primary\">Bootstrap</p>,\n",
       " <p class=\"f3 lh-condensed mb-0 mt-1 Link--primary\">Bot</p>,\n",
       " <p class=\"f3 lh-condensed mb-0 mt-1 Link--primary\">C</p>,\n",
       " <p class=\"f3 lh-condensed mb-0 mt-1 Link--primary\">Chrome</p>,\n",
       " <p class=\"f3 lh-condensed mb-0 mt-1 Link--primary\">Chrome extension</p>,\n",
       " <p class=\"f3 lh-condensed mb-0 mt-1 Link--primary\">Command line interface</p>,\n",
       " <p class=\"f3 lh-condensed mb-0 mt-1 Link--primary\">Clojure</p>,\n",
       " <p class=\"f3 lh-condensed mb-0 mt-1 Link--primary\">Code quality</p>,\n",
       " <p class=\"f3 lh-condensed mb-0 mt-1 Link--primary\">Code review</p>,\n",
       " <p class=\"f3 lh-condensed mb-0 mt-1 Link--primary\">Compiler</p>,\n",
       " <p class=\"f3 lh-condensed mb-0 mt-1 Link--primary\">Continuous integration</p>,\n",
       " <p class=\"f3 lh-condensed mb-0 mt-1 Link--primary\">COVID-19</p>,\n",
       " <p class=\"f3 lh-condensed mb-0 mt-1 Link--primary\">C++</p>]"
      ]
     },
     "execution_count": 8,
     "metadata": {},
     "output_type": "execute_result"
    }
   ],
   "source": [
    "topic_title_tags"
   ]
  },
  {
   "cell_type": "code",
   "execution_count": 9,
   "id": "c0e22b4d-3ba8-4e32-a881-616ba0190ef8",
   "metadata": {},
   "outputs": [],
   "source": [
    "# Find all of the description of topics on the first page\n",
    "# Descriptions are contained in p tags\n",
    "# Similar to topic title but with a different class\n",
    "topic_desc_tags = doc.find_all('p', {'class' : \"f5 color-fg-muted mb-0 mt-1\"})"
   ]
  },
  {
   "cell_type": "code",
   "execution_count": 10,
   "id": "3e01418a-5521-40f2-9f94-ae7ccc0b2064",
   "metadata": {},
   "outputs": [
    {
     "data": {
      "text/plain": [
       "30"
      ]
     },
     "execution_count": 10,
     "metadata": {},
     "output_type": "execute_result"
    }
   ],
   "source": [
    "# Checking to see if we grabbed the correct amount of p tags\n",
    "# There are 30 topics on the first page of github.com/topics\n",
    "len(topic_desc_tags)"
   ]
  },
  {
   "cell_type": "code",
   "execution_count": 11,
   "id": "ccdc2c63-61e0-44bf-93b5-f3c32c0992ee",
   "metadata": {
    "scrolled": true,
    "tags": []
   },
   "outputs": [
    {
     "data": {
      "text/plain": [
       "[<p class=\"f5 color-fg-muted mb-0 mt-1\">\n",
       "           3D modeling is the process of virtually developing the surface and structure of a 3D object.\n",
       "         </p>,\n",
       " <p class=\"f5 color-fg-muted mb-0 mt-1\">\n",
       "           Ajax is a technique for creating interactive web applications.\n",
       "         </p>,\n",
       " <p class=\"f5 color-fg-muted mb-0 mt-1\">\n",
       "           Algorithms are self-contained sequences that carry out a variety of tasks.\n",
       "         </p>,\n",
       " <p class=\"f5 color-fg-muted mb-0 mt-1\">\n",
       "           Amp is a non-blocking concurrency library for PHP.\n",
       "         </p>,\n",
       " <p class=\"f5 color-fg-muted mb-0 mt-1\">\n",
       "           Android is an operating system built by Google designed for mobile devices.\n",
       "         </p>,\n",
       " <p class=\"f5 color-fg-muted mb-0 mt-1\">\n",
       "           Angular is an open source web application platform.\n",
       "         </p>,\n",
       " <p class=\"f5 color-fg-muted mb-0 mt-1\">\n",
       "           Ansible is a simple and powerful automation engine.\n",
       "         </p>,\n",
       " <p class=\"f5 color-fg-muted mb-0 mt-1\">\n",
       "           An API (Application Programming Interface) is a collection of protocols and subroutines for building software.\n",
       "         </p>,\n",
       " <p class=\"f5 color-fg-muted mb-0 mt-1\">\n",
       "           Arduino is an open source hardware and software company and maker community.\n",
       "         </p>,\n",
       " <p class=\"f5 color-fg-muted mb-0 mt-1\">\n",
       "           ASP.NET is a web framework for building modern web apps and services.\n",
       "         </p>,\n",
       " <p class=\"f5 color-fg-muted mb-0 mt-1\">\n",
       "           Atom is a open source text editor built with web technologies.\n",
       "         </p>,\n",
       " <p class=\"f5 color-fg-muted mb-0 mt-1\">\n",
       "           An awesome list is a list of awesome things curated by the community.\n",
       "         </p>,\n",
       " <p class=\"f5 color-fg-muted mb-0 mt-1\">\n",
       "           Amazon Web Services provides on-demand cloud computing platforms on a subscription basis.\n",
       "         </p>,\n",
       " <p class=\"f5 color-fg-muted mb-0 mt-1\">\n",
       "           Azure is a cloud computing service created by Microsoft.\n",
       "         </p>,\n",
       " <p class=\"f5 color-fg-muted mb-0 mt-1\">\n",
       "           Babel is a compiler for writing next generation JavaScript, today.\n",
       "         </p>,\n",
       " <p class=\"f5 color-fg-muted mb-0 mt-1\">\n",
       "           Bash is a shell and command language interpreter for the GNU operating system.\n",
       "         </p>,\n",
       " <p class=\"f5 color-fg-muted mb-0 mt-1\">\n",
       "           Bitcoin is a cryptocurrency developed by Satoshi Nakamoto.\n",
       "         </p>,\n",
       " <p class=\"f5 color-fg-muted mb-0 mt-1\">\n",
       "           Bootstrap is an HTML, CSS, and JavaScript framework.\n",
       "         </p>,\n",
       " <p class=\"f5 color-fg-muted mb-0 mt-1\">\n",
       "           A bot is an application that runs automated tasks over the Internet.\n",
       "         </p>,\n",
       " <p class=\"f5 color-fg-muted mb-0 mt-1\">\n",
       "           C is a general purpose programming language that first appeared in 1972.\n",
       "         </p>,\n",
       " <p class=\"f5 color-fg-muted mb-0 mt-1\">\n",
       "           Chrome is a web browser from the tech company Google.\n",
       "         </p>,\n",
       " <p class=\"f5 color-fg-muted mb-0 mt-1\">\n",
       "           Chrome extensions enable users to customize the Chrome browsing experience.\n",
       "         </p>,\n",
       " <p class=\"f5 color-fg-muted mb-0 mt-1\">\n",
       "           A CLI, or command-line interface, is a console that helps users issue commands to a program.\n",
       "         </p>,\n",
       " <p class=\"f5 color-fg-muted mb-0 mt-1\">\n",
       "           Clojure is a dynamic, general-purpose programming language.\n",
       "         </p>,\n",
       " <p class=\"f5 color-fg-muted mb-0 mt-1\">\n",
       "           Automate your code review with style, quality, security, and test‑coverage checks when you need them.\n",
       "         </p>,\n",
       " <p class=\"f5 color-fg-muted mb-0 mt-1\">\n",
       "           Ensure your code meets quality standards and ship with confidence.\n",
       "         </p>,\n",
       " <p class=\"f5 color-fg-muted mb-0 mt-1\">\n",
       "           Compilers are software that translate higher-level programming languages to lower-level languages (e.g. machine code).\n",
       "         </p>,\n",
       " <p class=\"f5 color-fg-muted mb-0 mt-1\">\n",
       "           Automatically build and test your code as you push it upstream, preventing bugs from being deployed to production.\n",
       "         </p>,\n",
       " <p class=\"f5 color-fg-muted mb-0 mt-1\">\n",
       "           The coronavirus disease 2019 (COVID-19) is an infectious disease caused by SARS-CoV-2.\n",
       "         </p>,\n",
       " <p class=\"f5 color-fg-muted mb-0 mt-1\">\n",
       "           C++ is a general purpose and object-oriented programming language.\n",
       "         </p>]"
      ]
     },
     "execution_count": 11,
     "metadata": {},
     "output_type": "execute_result"
    }
   ],
   "source": [
    "topic_desc_tags"
   ]
  },
  {
   "cell_type": "code",
   "execution_count": 12,
   "id": "191ba7b6-89c1-4c6b-bda2-91b73d41a5ff",
   "metadata": {},
   "outputs": [],
   "source": [
    "# Find all of the URLs to each topic page\n",
    "# URLs are contained in a tags\n",
    "topic_url_tags = doc.find_all('a', {'class' : \"no-underline flex-1 d-flex flex-column\"})"
   ]
  },
  {
   "cell_type": "code",
   "execution_count": 13,
   "id": "0903165f-c8fd-4267-a0b0-58bb80ba20a5",
   "metadata": {},
   "outputs": [
    {
     "data": {
      "text/plain": [
       "30"
      ]
     },
     "execution_count": 13,
     "metadata": {},
     "output_type": "execute_result"
    }
   ],
   "source": [
    "# Checking to see if we grabbed the correct amount of p tags\n",
    "# There are 30 topics on the first page of github.com/topics\n",
    "len(topic_url_tags)"
   ]
  },
  {
   "cell_type": "code",
   "execution_count": 14,
   "id": "9444765a-bd2b-40fe-b961-62133c40e773",
   "metadata": {
    "scrolled": true,
    "tags": []
   },
   "outputs": [
    {
     "name": "stdout",
     "output_type": "stream",
     "text": [
      "https://github.com/topics/3d\n"
     ]
    }
   ],
   "source": [
    "# Testing URL for first topic\n",
    "topic0_url = \"https://github.com\" + topic_url_tags[0]['href']\n",
    "print(topic0_url)"
   ]
  },
  {
   "cell_type": "code",
   "execution_count": 15,
   "id": "b3bc4839-3f5f-42b6-9dd2-36b9cd68c3d0",
   "metadata": {},
   "outputs": [
    {
     "data": {
      "text/plain": [
       "['3D',\n",
       " 'Ajax',\n",
       " 'Algorithm',\n",
       " 'Amp',\n",
       " 'Android',\n",
       " 'Angular',\n",
       " 'Ansible',\n",
       " 'API',\n",
       " 'Arduino',\n",
       " 'ASP.NET',\n",
       " 'Atom',\n",
       " 'Awesome Lists',\n",
       " 'Amazon Web Services',\n",
       " 'Azure',\n",
       " 'Babel',\n",
       " 'Bash',\n",
       " 'Bitcoin',\n",
       " 'Bootstrap',\n",
       " 'Bot',\n",
       " 'C',\n",
       " 'Chrome',\n",
       " 'Chrome extension',\n",
       " 'Command line interface',\n",
       " 'Clojure',\n",
       " 'Code quality',\n",
       " 'Code review',\n",
       " 'Compiler',\n",
       " 'Continuous integration',\n",
       " 'COVID-19',\n",
       " 'C++']"
      ]
     },
     "execution_count": 15,
     "metadata": {},
     "output_type": "execute_result"
    }
   ],
   "source": [
    "# Get the text from the topic title p tags\n",
    "# The text is the name of each topic\n",
    "topic_titles = []\n",
    "for tag in topic_title_tags:\n",
    "    topic_titles.append(tag.text)\n",
    "topic_titles"
   ]
  },
  {
   "cell_type": "code",
   "execution_count": 16,
   "id": "efd7b36c-2262-4c82-ba3d-a223183a0534",
   "metadata": {},
   "outputs": [
    {
     "data": {
      "text/plain": [
       "['3D modeling is the process of virtually developing the surface and structure of a 3D object.',\n",
       " 'Ajax is a technique for creating interactive web applications.',\n",
       " 'Algorithms are self-contained sequences that carry out a variety of tasks.',\n",
       " 'Amp is a non-blocking concurrency library for PHP.',\n",
       " 'Android is an operating system built by Google designed for mobile devices.',\n",
       " 'Angular is an open source web application platform.',\n",
       " 'Ansible is a simple and powerful automation engine.',\n",
       " 'An API (Application Programming Interface) is a collection of protocols and subroutines for building software.',\n",
       " 'Arduino is an open source hardware and software company and maker community.',\n",
       " 'ASP.NET is a web framework for building modern web apps and services.',\n",
       " 'Atom is a open source text editor built with web technologies.',\n",
       " 'An awesome list is a list of awesome things curated by the community.',\n",
       " 'Amazon Web Services provides on-demand cloud computing platforms on a subscription basis.',\n",
       " 'Azure is a cloud computing service created by Microsoft.',\n",
       " 'Babel is a compiler for writing next generation JavaScript, today.',\n",
       " 'Bash is a shell and command language interpreter for the GNU operating system.',\n",
       " 'Bitcoin is a cryptocurrency developed by Satoshi Nakamoto.',\n",
       " 'Bootstrap is an HTML, CSS, and JavaScript framework.',\n",
       " 'A bot is an application that runs automated tasks over the Internet.',\n",
       " 'C is a general purpose programming language that first appeared in 1972.',\n",
       " 'Chrome is a web browser from the tech company Google.',\n",
       " 'Chrome extensions enable users to customize the Chrome browsing experience.',\n",
       " 'A CLI, or command-line interface, is a console that helps users issue commands to a program.',\n",
       " 'Clojure is a dynamic, general-purpose programming language.',\n",
       " 'Automate your code review with style, quality, security, and test‑coverage checks when you need them.',\n",
       " 'Ensure your code meets quality standards and ship with confidence.',\n",
       " 'Compilers are software that translate higher-level programming languages to lower-level languages (e.g. machine code).',\n",
       " 'Automatically build and test your code as you push it upstream, preventing bugs from being deployed to production.',\n",
       " 'The coronavirus disease 2019 (COVID-19) is an infectious disease caused by SARS-CoV-2.',\n",
       " 'C++ is a general purpose and object-oriented programming language.']"
      ]
     },
     "execution_count": 16,
     "metadata": {},
     "output_type": "execute_result"
    }
   ],
   "source": [
    "# Get the text from the topic desc p tags\n",
    "# The text is the description of each topic\n",
    "topic_descs = []\n",
    "for tag in topic_desc_tags:\n",
    "    topic_descs.append(tag.text.strip())\n",
    "    # .strip() method of a string removes any whitespace from beginning and end\n",
    "topic_descs"
   ]
  },
  {
   "cell_type": "code",
   "execution_count": 17,
   "id": "d4d823a3-29f5-4810-bcef-0e0c93c014f9",
   "metadata": {},
   "outputs": [
    {
     "data": {
      "text/plain": [
       "['https://github.com/topics/3d',\n",
       " 'https://github.com/topics/ajax',\n",
       " 'https://github.com/topics/algorithm',\n",
       " 'https://github.com/topics/amphp',\n",
       " 'https://github.com/topics/android',\n",
       " 'https://github.com/topics/angular',\n",
       " 'https://github.com/topics/ansible',\n",
       " 'https://github.com/topics/api',\n",
       " 'https://github.com/topics/arduino',\n",
       " 'https://github.com/topics/aspnet',\n",
       " 'https://github.com/topics/atom',\n",
       " 'https://github.com/topics/awesome',\n",
       " 'https://github.com/topics/aws',\n",
       " 'https://github.com/topics/azure',\n",
       " 'https://github.com/topics/babel',\n",
       " 'https://github.com/topics/bash',\n",
       " 'https://github.com/topics/bitcoin',\n",
       " 'https://github.com/topics/bootstrap',\n",
       " 'https://github.com/topics/bot',\n",
       " 'https://github.com/topics/c',\n",
       " 'https://github.com/topics/chrome',\n",
       " 'https://github.com/topics/chrome-extension',\n",
       " 'https://github.com/topics/cli',\n",
       " 'https://github.com/topics/clojure',\n",
       " 'https://github.com/topics/code-quality',\n",
       " 'https://github.com/topics/code-review',\n",
       " 'https://github.com/topics/compiler',\n",
       " 'https://github.com/topics/continuous-integration',\n",
       " 'https://github.com/topics/covid-19',\n",
       " 'https://github.com/topics/cpp']"
      ]
     },
     "execution_count": 17,
     "metadata": {},
     "output_type": "execute_result"
    }
   ],
   "source": [
    "# Get the href from the topic url a tags\n",
    "# Concatenate that to github.com to form the URL\n",
    "topic_urls = []\n",
    "\n",
    "for tag in topic_url_tags:\n",
    "    topic_urls.append('https://github.com' + tag['href'])\n",
    "topic_urls"
   ]
  },
  {
   "cell_type": "markdown",
   "id": "8865b8fa-0e68-44d4-bbbf-26bdc6137210",
   "metadata": {},
   "source": [
    "### Create CSV file(s) with the extracted information"
   ]
  },
  {
   "cell_type": "code",
   "execution_count": 18,
   "id": "275dc23f-b383-4fbf-8e5b-ee0142083e04",
   "metadata": {},
   "outputs": [],
   "source": [
    "import pandas as pd"
   ]
  },
  {
   "cell_type": "code",
   "execution_count": 19,
   "id": "00d598cb-d261-4d03-846c-045e8f999bdc",
   "metadata": {},
   "outputs": [
    {
     "data": {
      "text/html": [
       "<div>\n",
       "<style scoped>\n",
       "    .dataframe tbody tr th:only-of-type {\n",
       "        vertical-align: middle;\n",
       "    }\n",
       "\n",
       "    .dataframe tbody tr th {\n",
       "        vertical-align: top;\n",
       "    }\n",
       "\n",
       "    .dataframe thead th {\n",
       "        text-align: right;\n",
       "    }\n",
       "</style>\n",
       "<table border=\"1\" class=\"dataframe\">\n",
       "  <thead>\n",
       "    <tr style=\"text-align: right;\">\n",
       "      <th></th>\n",
       "      <th>Topic Name</th>\n",
       "      <th>Description</th>\n",
       "      <th>Topic URL</th>\n",
       "    </tr>\n",
       "  </thead>\n",
       "  <tbody>\n",
       "    <tr>\n",
       "      <th>0</th>\n",
       "      <td>3D</td>\n",
       "      <td>3D modeling is the process of virtually develo...</td>\n",
       "      <td>https://github.com/topics/3d</td>\n",
       "    </tr>\n",
       "    <tr>\n",
       "      <th>1</th>\n",
       "      <td>Ajax</td>\n",
       "      <td>Ajax is a technique for creating interactive w...</td>\n",
       "      <td>https://github.com/topics/ajax</td>\n",
       "    </tr>\n",
       "    <tr>\n",
       "      <th>2</th>\n",
       "      <td>Algorithm</td>\n",
       "      <td>Algorithms are self-contained sequences that c...</td>\n",
       "      <td>https://github.com/topics/algorithm</td>\n",
       "    </tr>\n",
       "    <tr>\n",
       "      <th>3</th>\n",
       "      <td>Amp</td>\n",
       "      <td>Amp is a non-blocking concurrency library for ...</td>\n",
       "      <td>https://github.com/topics/amphp</td>\n",
       "    </tr>\n",
       "    <tr>\n",
       "      <th>4</th>\n",
       "      <td>Android</td>\n",
       "      <td>Android is an operating system built by Google...</td>\n",
       "      <td>https://github.com/topics/android</td>\n",
       "    </tr>\n",
       "    <tr>\n",
       "      <th>5</th>\n",
       "      <td>Angular</td>\n",
       "      <td>Angular is an open source web application plat...</td>\n",
       "      <td>https://github.com/topics/angular</td>\n",
       "    </tr>\n",
       "    <tr>\n",
       "      <th>6</th>\n",
       "      <td>Ansible</td>\n",
       "      <td>Ansible is a simple and powerful automation en...</td>\n",
       "      <td>https://github.com/topics/ansible</td>\n",
       "    </tr>\n",
       "    <tr>\n",
       "      <th>7</th>\n",
       "      <td>API</td>\n",
       "      <td>An API (Application Programming Interface) is ...</td>\n",
       "      <td>https://github.com/topics/api</td>\n",
       "    </tr>\n",
       "    <tr>\n",
       "      <th>8</th>\n",
       "      <td>Arduino</td>\n",
       "      <td>Arduino is an open source hardware and softwar...</td>\n",
       "      <td>https://github.com/topics/arduino</td>\n",
       "    </tr>\n",
       "    <tr>\n",
       "      <th>9</th>\n",
       "      <td>ASP.NET</td>\n",
       "      <td>ASP.NET is a web framework for building modern...</td>\n",
       "      <td>https://github.com/topics/aspnet</td>\n",
       "    </tr>\n",
       "    <tr>\n",
       "      <th>10</th>\n",
       "      <td>Atom</td>\n",
       "      <td>Atom is a open source text editor built with w...</td>\n",
       "      <td>https://github.com/topics/atom</td>\n",
       "    </tr>\n",
       "    <tr>\n",
       "      <th>11</th>\n",
       "      <td>Awesome Lists</td>\n",
       "      <td>An awesome list is a list of awesome things cu...</td>\n",
       "      <td>https://github.com/topics/awesome</td>\n",
       "    </tr>\n",
       "    <tr>\n",
       "      <th>12</th>\n",
       "      <td>Amazon Web Services</td>\n",
       "      <td>Amazon Web Services provides on-demand cloud c...</td>\n",
       "      <td>https://github.com/topics/aws</td>\n",
       "    </tr>\n",
       "    <tr>\n",
       "      <th>13</th>\n",
       "      <td>Azure</td>\n",
       "      <td>Azure is a cloud computing service created by ...</td>\n",
       "      <td>https://github.com/topics/azure</td>\n",
       "    </tr>\n",
       "    <tr>\n",
       "      <th>14</th>\n",
       "      <td>Babel</td>\n",
       "      <td>Babel is a compiler for writing next generatio...</td>\n",
       "      <td>https://github.com/topics/babel</td>\n",
       "    </tr>\n",
       "    <tr>\n",
       "      <th>15</th>\n",
       "      <td>Bash</td>\n",
       "      <td>Bash is a shell and command language interpret...</td>\n",
       "      <td>https://github.com/topics/bash</td>\n",
       "    </tr>\n",
       "    <tr>\n",
       "      <th>16</th>\n",
       "      <td>Bitcoin</td>\n",
       "      <td>Bitcoin is a cryptocurrency developed by Satos...</td>\n",
       "      <td>https://github.com/topics/bitcoin</td>\n",
       "    </tr>\n",
       "    <tr>\n",
       "      <th>17</th>\n",
       "      <td>Bootstrap</td>\n",
       "      <td>Bootstrap is an HTML, CSS, and JavaScript fram...</td>\n",
       "      <td>https://github.com/topics/bootstrap</td>\n",
       "    </tr>\n",
       "    <tr>\n",
       "      <th>18</th>\n",
       "      <td>Bot</td>\n",
       "      <td>A bot is an application that runs automated ta...</td>\n",
       "      <td>https://github.com/topics/bot</td>\n",
       "    </tr>\n",
       "    <tr>\n",
       "      <th>19</th>\n",
       "      <td>C</td>\n",
       "      <td>C is a general purpose programming language th...</td>\n",
       "      <td>https://github.com/topics/c</td>\n",
       "    </tr>\n",
       "    <tr>\n",
       "      <th>20</th>\n",
       "      <td>Chrome</td>\n",
       "      <td>Chrome is a web browser from the tech company ...</td>\n",
       "      <td>https://github.com/topics/chrome</td>\n",
       "    </tr>\n",
       "    <tr>\n",
       "      <th>21</th>\n",
       "      <td>Chrome extension</td>\n",
       "      <td>Chrome extensions enable users to customize th...</td>\n",
       "      <td>https://github.com/topics/chrome-extension</td>\n",
       "    </tr>\n",
       "    <tr>\n",
       "      <th>22</th>\n",
       "      <td>Command line interface</td>\n",
       "      <td>A CLI, or command-line interface, is a console...</td>\n",
       "      <td>https://github.com/topics/cli</td>\n",
       "    </tr>\n",
       "    <tr>\n",
       "      <th>23</th>\n",
       "      <td>Clojure</td>\n",
       "      <td>Clojure is a dynamic, general-purpose programm...</td>\n",
       "      <td>https://github.com/topics/clojure</td>\n",
       "    </tr>\n",
       "    <tr>\n",
       "      <th>24</th>\n",
       "      <td>Code quality</td>\n",
       "      <td>Automate your code review with style, quality,...</td>\n",
       "      <td>https://github.com/topics/code-quality</td>\n",
       "    </tr>\n",
       "    <tr>\n",
       "      <th>25</th>\n",
       "      <td>Code review</td>\n",
       "      <td>Ensure your code meets quality standards and s...</td>\n",
       "      <td>https://github.com/topics/code-review</td>\n",
       "    </tr>\n",
       "    <tr>\n",
       "      <th>26</th>\n",
       "      <td>Compiler</td>\n",
       "      <td>Compilers are software that translate higher-l...</td>\n",
       "      <td>https://github.com/topics/compiler</td>\n",
       "    </tr>\n",
       "    <tr>\n",
       "      <th>27</th>\n",
       "      <td>Continuous integration</td>\n",
       "      <td>Automatically build and test your code as you ...</td>\n",
       "      <td>https://github.com/topics/continuous-integration</td>\n",
       "    </tr>\n",
       "    <tr>\n",
       "      <th>28</th>\n",
       "      <td>COVID-19</td>\n",
       "      <td>The coronavirus disease 2019 (COVID-19) is an ...</td>\n",
       "      <td>https://github.com/topics/covid-19</td>\n",
       "    </tr>\n",
       "    <tr>\n",
       "      <th>29</th>\n",
       "      <td>C++</td>\n",
       "      <td>C++ is a general purpose and object-oriented p...</td>\n",
       "      <td>https://github.com/topics/cpp</td>\n",
       "    </tr>\n",
       "  </tbody>\n",
       "</table>\n",
       "</div>"
      ],
      "text/plain": [
       "                Topic Name                                        Description  \\\n",
       "0                       3D  3D modeling is the process of virtually develo...   \n",
       "1                     Ajax  Ajax is a technique for creating interactive w...   \n",
       "2                Algorithm  Algorithms are self-contained sequences that c...   \n",
       "3                      Amp  Amp is a non-blocking concurrency library for ...   \n",
       "4                  Android  Android is an operating system built by Google...   \n",
       "5                  Angular  Angular is an open source web application plat...   \n",
       "6                  Ansible  Ansible is a simple and powerful automation en...   \n",
       "7                      API  An API (Application Programming Interface) is ...   \n",
       "8                  Arduino  Arduino is an open source hardware and softwar...   \n",
       "9                  ASP.NET  ASP.NET is a web framework for building modern...   \n",
       "10                    Atom  Atom is a open source text editor built with w...   \n",
       "11           Awesome Lists  An awesome list is a list of awesome things cu...   \n",
       "12     Amazon Web Services  Amazon Web Services provides on-demand cloud c...   \n",
       "13                   Azure  Azure is a cloud computing service created by ...   \n",
       "14                   Babel  Babel is a compiler for writing next generatio...   \n",
       "15                    Bash  Bash is a shell and command language interpret...   \n",
       "16                 Bitcoin  Bitcoin is a cryptocurrency developed by Satos...   \n",
       "17               Bootstrap  Bootstrap is an HTML, CSS, and JavaScript fram...   \n",
       "18                     Bot  A bot is an application that runs automated ta...   \n",
       "19                       C  C is a general purpose programming language th...   \n",
       "20                  Chrome  Chrome is a web browser from the tech company ...   \n",
       "21        Chrome extension  Chrome extensions enable users to customize th...   \n",
       "22  Command line interface  A CLI, or command-line interface, is a console...   \n",
       "23                 Clojure  Clojure is a dynamic, general-purpose programm...   \n",
       "24            Code quality  Automate your code review with style, quality,...   \n",
       "25             Code review  Ensure your code meets quality standards and s...   \n",
       "26                Compiler  Compilers are software that translate higher-l...   \n",
       "27  Continuous integration  Automatically build and test your code as you ...   \n",
       "28                COVID-19  The coronavirus disease 2019 (COVID-19) is an ...   \n",
       "29                     C++  C++ is a general purpose and object-oriented p...   \n",
       "\n",
       "                                           Topic URL  \n",
       "0                       https://github.com/topics/3d  \n",
       "1                     https://github.com/topics/ajax  \n",
       "2                https://github.com/topics/algorithm  \n",
       "3                    https://github.com/topics/amphp  \n",
       "4                  https://github.com/topics/android  \n",
       "5                  https://github.com/topics/angular  \n",
       "6                  https://github.com/topics/ansible  \n",
       "7                      https://github.com/topics/api  \n",
       "8                  https://github.com/topics/arduino  \n",
       "9                   https://github.com/topics/aspnet  \n",
       "10                    https://github.com/topics/atom  \n",
       "11                 https://github.com/topics/awesome  \n",
       "12                     https://github.com/topics/aws  \n",
       "13                   https://github.com/topics/azure  \n",
       "14                   https://github.com/topics/babel  \n",
       "15                    https://github.com/topics/bash  \n",
       "16                 https://github.com/topics/bitcoin  \n",
       "17               https://github.com/topics/bootstrap  \n",
       "18                     https://github.com/topics/bot  \n",
       "19                       https://github.com/topics/c  \n",
       "20                  https://github.com/topics/chrome  \n",
       "21        https://github.com/topics/chrome-extension  \n",
       "22                     https://github.com/topics/cli  \n",
       "23                 https://github.com/topics/clojure  \n",
       "24            https://github.com/topics/code-quality  \n",
       "25             https://github.com/topics/code-review  \n",
       "26                https://github.com/topics/compiler  \n",
       "27  https://github.com/topics/continuous-integration  \n",
       "28                https://github.com/topics/covid-19  \n",
       "29                     https://github.com/topics/cpp  "
      ]
     },
     "execution_count": 19,
     "metadata": {},
     "output_type": "execute_result"
    }
   ],
   "source": [
    "# Create dictionary to turn into pandas df\n",
    "topics_dict30 = {'Topic Name' : topic_titles, \n",
    "                 'Description' : topic_descs, \n",
    "                 'Topic URL' : topic_urls}\n",
    "topics_df = pd.DataFrame(topics_dict30)\n",
    "topics_df"
   ]
  },
  {
   "cell_type": "code",
   "execution_count": 20,
   "id": "7efc1030-d987-4067-a056-7096984dc53c",
   "metadata": {},
   "outputs": [],
   "source": [
    "# Create CSV file\n",
    "topics_df.to_csv('topics.csv', index=None)"
   ]
  },
  {
   "cell_type": "markdown",
   "id": "1108ceff-5f66-4732-8c5a-2c77266478e9",
   "metadata": {},
   "source": [
    "### Getting information from the topic pages"
   ]
  },
  {
   "cell_type": "code",
   "execution_count": 21,
   "id": "4a26c868-e605-4fde-9339-08d2870791cb",
   "metadata": {},
   "outputs": [],
   "source": [
    "response = requests.get(topic_urls[0])"
   ]
  },
  {
   "cell_type": "code",
   "execution_count": 22,
   "id": "52d4cb37-14c9-466c-8f45-191938363201",
   "metadata": {},
   "outputs": [
    {
     "data": {
      "text/plain": [
       "200"
      ]
     },
     "execution_count": 22,
     "metadata": {},
     "output_type": "execute_result"
    }
   ],
   "source": [
    "# Status code 200 is successful\n",
    "response.status_code"
   ]
  },
  {
   "cell_type": "code",
   "execution_count": 23,
   "id": "457aa04a-50e5-472d-b283-676a64cae97f",
   "metadata": {},
   "outputs": [],
   "source": [
    "topic_doc = BeautifulSoup(response.text, 'html.parser')"
   ]
  },
  {
   "cell_type": "code",
   "execution_count": 24,
   "id": "0e1554e2-f952-4934-8c5c-4a4249e8214c",
   "metadata": {},
   "outputs": [
    {
     "data": {
      "text/plain": [
       "20"
      ]
     },
     "execution_count": 24,
     "metadata": {},
     "output_type": "execute_result"
    }
   ],
   "source": [
    "# Get the repository information in the h3 tags\n",
    "repo_tags = topic_doc.find_all('h3', {'class' : \"f3 color-fg-muted text-normal lh-condensed\"})\n",
    "\n",
    "# There are 30 repositories on the first page\n",
    "len(repo_tags)"
   ]
  },
  {
   "cell_type": "code",
   "execution_count": 25,
   "id": "cff04693-2ec7-421f-810d-661ec8e0444b",
   "metadata": {},
   "outputs": [
    {
     "data": {
      "text/plain": [
       "<h3 class=\"f3 color-fg-muted text-normal lh-condensed\">\n",
       "<a data-hydro-click='{\"event_type\":\"explore.click\",\"payload\":{\"click_context\":\"REPOSITORY_CARD\",\"click_target\":\"OWNER\",\"click_visual_representation\":\"REPOSITORY_OWNER_HEADING\",\"actor_id\":null,\"record_id\":97088,\"originating_url\":\"https://github.com/topics/3d\",\"user_id\":null}}' data-hydro-click-hmac=\"4bdbc49d3c05ae7f70b531fbce709a384200b0768554e0172950286a8db30940\" data-turbo=\"false\" data-view-component=\"true\" href=\"/mrdoob\">\n",
       "            mrdoob\n",
       "</a>          /\n",
       "          <a class=\"text-bold wb-break-word\" data-hydro-click='{\"event_type\":\"explore.click\",\"payload\":{\"click_context\":\"REPOSITORY_CARD\",\"click_target\":\"REPOSITORY\",\"click_visual_representation\":\"REPOSITORY_NAME_HEADING\",\"actor_id\":null,\"record_id\":576201,\"originating_url\":\"https://github.com/topics/3d\",\"user_id\":null}}' data-hydro-click-hmac=\"517d3d5cb9d89752156923904a4238816bc9b51ab7772f3e3644ce897d8dd4e5\" data-turbo=\"false\" data-view-component=\"true\" href=\"/mrdoob/three.js\">\n",
       "            three.js\n",
       "</a> </h3>"
      ]
     },
     "execution_count": 25,
     "metadata": {},
     "output_type": "execute_result"
    }
   ],
   "source": [
    "# The h3 tag has two children tag containing information on the username and repo\n",
    "repo_tags[0]"
   ]
  },
  {
   "cell_type": "code",
   "execution_count": 26,
   "id": "d0dc80ee-03ec-4099-a912-f49d75e56d44",
   "metadata": {},
   "outputs": [],
   "source": [
    "a_tags = repo_tags[0].find_all('a')"
   ]
  },
  {
   "cell_type": "code",
   "execution_count": 27,
   "id": "cd47188b-31df-42f7-b1df-14ce8260610c",
   "metadata": {},
   "outputs": [
    {
     "data": {
      "text/plain": [
       "20"
      ]
     },
     "execution_count": 27,
     "metadata": {},
     "output_type": "execute_result"
    }
   ],
   "source": [
    "star_tags = topic_doc.find_all('span', {'class' : \"Counter js-social-count\"})\n",
    "len(star_tags)"
   ]
  },
  {
   "cell_type": "code",
   "execution_count": 28,
   "id": "6c4c5427-f84e-42c1-9cb9-785c6c7242fb",
   "metadata": {},
   "outputs": [
    {
     "data": {
      "text/plain": [
       "'86.3k'"
      ]
     },
     "execution_count": 28,
     "metadata": {},
     "output_type": "execute_result"
    }
   ],
   "source": [
    "#This is the star counter for the first repo\n",
    "star_tags[0].text"
   ]
  },
  {
   "cell_type": "code",
   "execution_count": 29,
   "id": "9bcca257-d5b6-4170-9fb6-54b08c3aab9b",
   "metadata": {},
   "outputs": [],
   "source": [
    "def parse_star_count(stars_str):\n",
    "    '''\n",
    "    This function takes in a string of the stars count from a github repo \n",
    "    and parses it as an int\n",
    "    '''\n",
    "    stars_str = stars_str.strip()\n",
    "    # Check to see if star count is in the thousands\n",
    "    if stars_str[-1] == 'k':\n",
    "        # Convert to thousands\n",
    "        return int(float(stars_str[:-1]) * 1000)\n",
    "    # If star count is not in thousands, just return as int\n",
    "    return int(stars_str)"
   ]
  },
  {
   "cell_type": "code",
   "execution_count": 30,
   "id": "d90637aa-a527-47c7-aa72-c46cd2612902",
   "metadata": {},
   "outputs": [],
   "source": [
    "def get_repo_info(h3_tag, star_tag):\n",
    "    '''\n",
    "    Returns username, repo name, star count, and repo url\n",
    "    '''\n",
    "    # The h3 tag has two children tag containing information on the username and repo\n",
    "    a_tags = h3_tag.find_all('a')\n",
    "    # Index 0 a tag is the username\n",
    "    username = a_tags[0].text.strip()\n",
    "    # Index 1 a tag is the repo name\n",
    "    repo_name = a_tags[1].text.strip()\n",
    "    repo_url = 'https://github.com' + a_tags[1]['href']\n",
    "    stars = parse_star_count(star_tag.text.strip())\n",
    "    return username, repo_name, stars, repo_url"
   ]
  },
  {
   "cell_type": "code",
   "execution_count": 31,
   "id": "d0685dca-24e1-44c4-b337-7928ada16ac9",
   "metadata": {},
   "outputs": [],
   "source": [
    "import os\n",
    "\n",
    "def get_topic_repos(topic_url):\n",
    "    '''\n",
    "    This function return a pandas Dataframe with the username, repo name\n",
    "    star count, and repo url of a github topic\n",
    "    '''\n",
    "    response = requests.get(topic_url)\n",
    "    #Check successful response\n",
    "    if response.status_code != 200:\n",
    "        raise Exception('Failed to load page {}'.format(topic_url))\n",
    "    #Parse using Beautiful soup    \n",
    "    topic_doc = BeautifulSoup(response.text, 'html.parser')\n",
    "    #Get h3 tags containing username, repo name, and repo URL\n",
    "    repo_tags = topic_doc.find_all('h3', {'class' : \"f3 color-fg-muted text-normal lh-condensed\"})\n",
    "    #Get star tags\n",
    "    star_tags = topic_doc.find_all('span', {'class' : \"Counter js-social-count\"})\n",
    "    #Get repo info\n",
    "    topic_repos_dict = {\n",
    "        'username' : [],\n",
    "        'repo_name' : [],\n",
    "        'stars' : [],\n",
    "        'repo_url' : []\n",
    "    }\n",
    "    for i in range(len(repo_tags)):\n",
    "        repo_info = get_repo_info(repo_tags[i], star_tags[i])\n",
    "        topic_repos_dict['username'].append(repo_info[0])\n",
    "        topic_repos_dict['repo_name'].append(repo_info[1])\n",
    "        topic_repos_dict['stars'].append(repo_info[2])\n",
    "        topic_repos_dict['repo_url'].append(repo_info[3])    \n",
    "        \n",
    "    return pd.DataFrame(topic_repos_dict)\n",
    "\n",
    "def scrape_topic(topic_url, topic_name):\n",
    "    fname = topic_name + '.csv'\n",
    "    if os.path.exists(fname):\n",
    "        print(\"The file {} already exists. Skipping.\".format(fname))\n",
    "        return\n",
    "    topic_df = get_topic_repos(topic_url)\n",
    "    topic_df.to_csv(fname, index=None)"
   ]
  },
  {
   "cell_type": "code",
   "execution_count": 32,
   "id": "6761527f-7eb6-4510-9a58-cfbfae13145f",
   "metadata": {},
   "outputs": [],
   "source": [
    "def get_topic_titles():\n",
    "    # Find all of the topic titles on the first page\n",
    "    # Topic titles are contained in p tags\n",
    "    topic_title_tags = doc.find_all('p', {'class': \"f3 lh-condensed mb-0 mt-1 Link--primary\"})\n",
    "    # Get the text from the topic title p tags\n",
    "    # The text is the name of each topic\n",
    "    topic_titles = []\n",
    "    for tag in topic_title_tags:\n",
    "        topic_titles.append(tag.text)\n",
    "    return topic_titles\n",
    "\n",
    "def get_topic_descs():\n",
    "    # Find all of the description of topics on the first page\n",
    "    # Descriptions are contained in p tags\n",
    "    # Similar to topic title but with a different class\n",
    "    topic_desc_tags = doc.find_all('p', {'class' : \"f5 color-fg-muted mb-0 mt-1\"})\n",
    "    # Get the text from the topic desc p tags\n",
    "    # The text is the description of each topic\n",
    "    topic_descs = []\n",
    "    for tag in topic_desc_tags:\n",
    "        topic_descs.append(tag.text.strip())\n",
    "    return topic_descs\n",
    "\n",
    "def get_topic_urls(): \n",
    "    # Find all of the URLs to each topic page\n",
    "    # URLs are contained in a tags\n",
    "    topic_url_tags = doc.find_all('a', {'class' : \"no-underline flex-1 d-flex flex-column\"})\n",
    "    # Get the href from the topic url a tags\n",
    "    # Concatenate that to github.com to form the URL\n",
    "    topic_urls = []\n",
    "    for tag in topic_url_tags:\n",
    "        topic_urls.append('https://github.com' + tag['href'])\n",
    "    return topic_urls\n",
    "\n",
    "def scrape_topics():\n",
    "    topics_url = 'https://github.com/topics'\n",
    "    response = requests.get(topics_url)\n",
    "    #Check successful response\n",
    "    if response.status_code != 200:\n",
    "        raise Exception('Failed to load page {}'.format(topic_url))\n",
    "        \n",
    "    topics_dict = {\n",
    "    'Topic Name' : get_topic_titles(),\n",
    "    'Description' : get_topic_descs(),\n",
    "    'URL' : get_topic_urls()\n",
    "    }\n",
    "    return pd.DataFrame(topics_dict)\n"
   ]
  },
  {
   "cell_type": "code",
   "execution_count": 33,
   "id": "cde2ef5e-0f92-4164-aa06-1fd1b1e6d5c9",
   "metadata": {},
   "outputs": [],
   "source": [
    "def scrape_topics_repos():\n",
    "    print('Scraping list of topics')\n",
    "    topics_df = scrape_topics()\n",
    "    for index, row in topics_df.iterrows():\n",
    "        print('Scraping top repositories for \"{}\"'.format(row['Topic Name']))\n",
    "        scrape_topic(row['URL'], row['Topic Name'])"
   ]
  },
  {
   "cell_type": "markdown",
   "id": "767bf99e-d934-4675-8f17-9a16e0fa6eb8",
   "metadata": {},
   "source": [
    "# Scrape the top Topics repositories and create CSV files with its information"
   ]
  },
  {
   "cell_type": "code",
   "execution_count": 34,
   "id": "5020e61e-0d04-4bd5-a49a-14e759866ede",
   "metadata": {},
   "outputs": [
    {
     "name": "stdout",
     "output_type": "stream",
     "text": [
      "Scraping list of topics\n",
      "Scraping top repositories for \"3D\"\n",
      "Scraping top repositories for \"Ajax\"\n",
      "Scraping top repositories for \"Algorithm\"\n",
      "Scraping top repositories for \"Amp\"\n",
      "Scraping top repositories for \"Android\"\n",
      "Scraping top repositories for \"Angular\"\n",
      "Scraping top repositories for \"Ansible\"\n",
      "Scraping top repositories for \"API\"\n",
      "Scraping top repositories for \"Arduino\"\n",
      "Scraping top repositories for \"ASP.NET\"\n",
      "Scraping top repositories for \"Atom\"\n",
      "Scraping top repositories for \"Awesome Lists\"\n",
      "Scraping top repositories for \"Amazon Web Services\"\n",
      "Scraping top repositories for \"Azure\"\n",
      "Scraping top repositories for \"Babel\"\n",
      "Scraping top repositories for \"Bash\"\n",
      "Scraping top repositories for \"Bitcoin\"\n",
      "Scraping top repositories for \"Bootstrap\"\n",
      "Scraping top repositories for \"Bot\"\n",
      "Scraping top repositories for \"C\"\n",
      "Scraping top repositories for \"Chrome\"\n",
      "Scraping top repositories for \"Chrome extension\"\n",
      "Scraping top repositories for \"Command line interface\"\n",
      "Scraping top repositories for \"Clojure\"\n",
      "Scraping top repositories for \"Code quality\"\n",
      "Scraping top repositories for \"Code review\"\n",
      "Scraping top repositories for \"Compiler\"\n",
      "Scraping top repositories for \"Continuous integration\"\n",
      "Scraping top repositories for \"COVID-19\"\n",
      "Scraping top repositories for \"C++\"\n"
     ]
    }
   ],
   "source": [
    "scrape_topics_repos()"
   ]
  }
 ],
 "metadata": {
  "kernelspec": {
   "display_name": "Python 3 (ipykernel)",
   "language": "python",
   "name": "python3"
  },
  "language_info": {
   "codemirror_mode": {
    "name": "ipython",
    "version": 3
   },
   "file_extension": ".py",
   "mimetype": "text/x-python",
   "name": "python",
   "nbconvert_exporter": "python",
   "pygments_lexer": "ipython3",
   "version": "3.9.7"
  }
 },
 "nbformat": 4,
 "nbformat_minor": 5
}
